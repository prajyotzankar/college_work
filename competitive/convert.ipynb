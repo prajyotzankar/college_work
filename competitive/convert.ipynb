{
 "cells": [
  {
   "cell_type": "code",
   "execution_count": 112,
   "source": [
    "from lxml import etree\r\n",
    "from PIL import Image\r\n",
    "import csv\r\n",
    "import os\r\n",
    "import re"
   ],
   "outputs": [],
   "metadata": {}
  },
  {
   "cell_type": "code",
   "execution_count": 113,
   "source": [
    "def atoi(text):\r\n",
    "    return int(text) if text.isdigit() else text\r\n",
    "\r\n",
    "def natural_keys(text):\r\n",
    "    return [atoi(c) for c in re.split(r'(\\d+)', text)]\r\n",
    "\r\n",
    "images_path = \"D:\\Downloads\\General\\WIDER_val\\images\"\r\n",
    "folders = os.listdir(images_path)\r\n",
    "folders.sort(key=natural_keys)\r\n",
    "\r\n",
    "save_path = 'D:\\Downloads\\General\\WIDER_val\\images_anotations'\r\n",
    "try:\r\n",
    "    os.mkdir(save_path)\r\n",
    "except OSError as error:\r\n",
    "    pass\r\n",
    "\r\n",
    "anotation_txt_path = \"D:/Downloads/General/anotations/wider_face_val_bbx_gt.txt\"\r\n",
    "\r\n",
    "labels = ['face']\r\n"
   ],
   "outputs": [],
   "metadata": {}
  },
  {
   "cell_type": "code",
   "execution_count": 134,
   "source": [
    "anotation_txt_file = open(anotation_txt_path, 'r')\r\n",
    "txt_data_list = anotation_txt_file.read().split('\\n')\r\n",
    "#len(txt_data_list)\r\n",
    "#temp = anotation_txt_file.read().split('\\n')"
   ],
   "outputs": [],
   "metadata": {}
  },
  {
   "cell_type": "code",
   "execution_count": 135,
   "source": [
    "if txt_data_list[-1] == \"\":\r\n",
    "    txt_data_list = txt_data_list[:-1]"
   ],
   "outputs": [],
   "metadata": {}
  },
  {
   "cell_type": "code",
   "execution_count": 116,
   "source": [
    "txt_data_list = txt_data_list[:128]"
   ],
   "outputs": [],
   "metadata": {}
  },
  {
   "cell_type": "code",
   "execution_count": 118,
   "source": [
    "len(txt_data_list)"
   ],
   "outputs": [
    {
     "output_type": "execute_result",
     "data": {
      "text/plain": [
       "128"
      ]
     },
     "metadata": {},
     "execution_count": 118
    }
   ],
   "metadata": {}
  },
  {
   "cell_type": "code",
   "execution_count": 136,
   "source": [
    "line_counter = 0\r\n",
    "while line_counter < len(txt_data_list):\r\n",
    "    folder_name = txt_data_list[line_counter].split('/')[0]\r\n",
    "    image_name = txt_data_list[line_counter].split('/')[1]\r\n",
    "    line_counter += 1\r\n",
    "\r\n",
    "    no_of_faces = int(txt_data_list[line_counter])\r\n",
    "    line_counter += 1\r\n",
    "\r\n",
    "    image_path = folder_name + '\\\\' + image_name\r\n",
    "    image_path = os.path.join(images_path, image_path)\r\n",
    "\r\n",
    "    root = etree.Element(\"annotation\")\r\n",
    "\r\n",
    "    # read the image  information\r\n",
    "    img_size = Image.open(image_path).size\r\n",
    "\r\n",
    "    img_width = img_size[0]\r\n",
    "    img_height = img_size[1]\r\n",
    "    img_depth = Image.open(image_path).layers\r\n",
    "    ######################################\r\n",
    "\r\n",
    "    folder = etree.Element(\"folder\")\r\n",
    "    folder.text = \"%s\" % (folder_name)\r\n",
    "\r\n",
    "    filename = etree.Element(\"filename\")\r\n",
    "    filename.text = \"%s\" % (image_name)\r\n",
    "\r\n",
    "    path = etree.Element(\"path\")\r\n",
    "    path.text = \"%s\" % (image_path)\r\n",
    "\r\n",
    "    source = etree.Element(\"source\")\r\n",
    "    ##################source - element##################\r\n",
    "    source_database = etree.SubElement(source, \"database\")\r\n",
    "    source_database.text = \"Unknown\"\r\n",
    "    ####################################################\r\n",
    "\r\n",
    "    size = etree.Element(\"size\")\r\n",
    "    ####################size - element##################\r\n",
    "    image_width = etree.SubElement(size, \"width\")\r\n",
    "    image_width.text = \"%d\" % (img_width)\r\n",
    "\r\n",
    "    image_height = etree.SubElement(size, \"height\")\r\n",
    "    image_height.text = \"%d\" % (img_height)\r\n",
    "\r\n",
    "    image_depth = etree.SubElement(size, \"depth\")\r\n",
    "    image_depth.text = \"%d\" % (img_depth)\r\n",
    "    ####################################################\r\n",
    "\r\n",
    "    segmented = etree.Element(\"segmented\")\r\n",
    "    segmented.text = \"0\"\r\n",
    "\r\n",
    "    root.append(folder)\r\n",
    "    root.append(filename)\r\n",
    "    root.append(path)\r\n",
    "    root.append(source)\r\n",
    "    root.append(size)\r\n",
    "    root.append(segmented)\r\n",
    "\r\n",
    "    #save_path = 'D:\\Downloads\\General\\WIDER_val\\images_anotations'\r\n",
    "    anotation_xml_folder = os.path.join(save_path, folder_name)\r\n",
    "    try:\r\n",
    "        os.mkdir(anotation_xml_folder)\r\n",
    "    except OSError as error:\r\n",
    "        pass\r\n",
    "\r\n",
    "    for face in range(no_of_faces):\r\n",
    "        \r\n",
    "        data = txt_data_list[line_counter].split(' ')\r\n",
    "        x1, y1, w, h = [int(x) for x in data[:4]]\r\n",
    "        line_counter += 1\r\n",
    "\r\n",
    "        x_min_rect = x1\r\n",
    "        y_min_rect = y1 \r\n",
    "        x_max_rect = x1 + w\r\n",
    "        y_max_rect = y1 + h\r\n",
    "\r\n",
    "        \r\n",
    "        object = etree.Element(\"object\")\r\n",
    "        ####################object - element##################\r\n",
    "        name = etree.SubElement(object, \"name\")\r\n",
    "        name.text = \"%s\" % (labels[0])\r\n",
    "\r\n",
    "        pose = etree.SubElement(object, \"pose\")\r\n",
    "        pose.text = \"Unspecified\"\r\n",
    "\r\n",
    "        truncated = etree.SubElement(object, \"truncated\")\r\n",
    "        truncated.text = \"Unspecified\"\r\n",
    "\r\n",
    "        difficult = etree.SubElement(object, \"difficult\")\r\n",
    "        difficult.text = \"Unspecified\"\r\n",
    "\r\n",
    "        bndbox = etree.SubElement(object, \"bndbox\")\r\n",
    "        #####sub_sub########\r\n",
    "        xmin = etree.SubElement(bndbox, \"xmin\")\r\n",
    "        xmin.text = \"%d\" % (x_min_rect)\r\n",
    "        ymin = etree.SubElement(bndbox, \"ymin\")\r\n",
    "        ymin.text = \"%d\" % (y_min_rect)\r\n",
    "        xmax = etree.SubElement(bndbox, \"xmax\")\r\n",
    "        xmax.text = \"%d\" % (x_max_rect)\r\n",
    "        ymax = etree.SubElement(bndbox, \"ymax\")\r\n",
    "        ymax.text = \"%d\" % (y_max_rect)\r\n",
    "        #####sub_sub########\r\n",
    "\r\n",
    "        root.append(object)\r\n",
    "        ####################################################\r\n",
    "        \r\n",
    "        \r\n",
    "        file_output = etree.tostring(root, pretty_print=True, encoding='UTF-8')\r\n",
    "        # print(file_output.decode('utf-8'))\r\n",
    "        anotation_xml_file_name = '%s.xml' % (image_name[:-4])\r\n",
    "        anotation_xml_file = os.path.join(anotation_xml_folder, anotation_xml_file_name)\r\n",
    "        \r\n",
    "        ff = open(anotation_xml_file, 'w', encoding=\"utf-8\")\r\n",
    "        ff.write(file_output.decode('utf-8'))\r\n",
    "        ff.close()\r\n",
    "\r\n",
    "\r\n",
    "    "
   ],
   "outputs": [],
   "metadata": {}
  },
  {
   "cell_type": "code",
   "execution_count": 131,
   "source": [
    "me = txt_data_list[2].split(' ')\r\n",
    "x1, y1, w, h = [int(x) for x in me[:4]]\r\n",
    "    "
   ],
   "outputs": [],
   "metadata": {}
  },
  {
   "cell_type": "code",
   "execution_count": 109,
   "source": [
    "'%s.xml' % (image_name[:-4])"
   ],
   "outputs": [
    {
     "output_type": "execute_result",
     "data": {
      "text/plain": [
       "'0_Parade_marchingband_1_465.xml'"
      ]
     },
     "metadata": {},
     "execution_count": 109
    }
   ],
   "metadata": {}
  },
  {
   "cell_type": "code",
   "execution_count": 111,
   "source": [
    "folder_name = temp[0].split('/')[0]\r\n",
    "image_name = temp[0].split('/')[1]\r\n",
    "anotation_xml_folder = os.path.join(save_path, folder_name)\r\n",
    "anotation_xml_file_name = '%s.xml' % (image_name[:-4])\r\n",
    "os.path.join(anotation_xml_folder, anotation_xml_file_name)"
   ],
   "outputs": [
    {
     "output_type": "execute_result",
     "data": {
      "text/plain": [
       "'D:\\\\Downloads\\\\General\\\\WIDER_val\\\\images_anotations\\\\0--Parade\\\\0_Parade_marchingband_1_465.xml'"
      ]
     },
     "metadata": {},
     "execution_count": 111
    }
   ],
   "metadata": {}
  },
  {
   "cell_type": "code",
   "execution_count": 108,
   "source": [
    "image_name[:-3]\r\n",
    "\r\n",
    "\r\n"
   ],
   "outputs": [
    {
     "output_type": "execute_result",
     "data": {
      "text/plain": [
       "'0_Parade_marchingband_1_465.'"
      ]
     },
     "metadata": {},
     "execution_count": 108
    }
   ],
   "metadata": {}
  },
  {
   "cell_type": "code",
   "execution_count": 66,
   "source": [
    "temp"
   ],
   "outputs": [
    {
     "output_type": "execute_result",
     "data": {
      "text/plain": [
       "['0--Parade/0_Parade_marchingband_1_465.jpg',\n",
       " '126',\n",
       " '345 211 4 4 2 0 0 0 2 0 ',\n",
       " '331 126 3 3 0 0 0 1 0 0 ']"
      ]
     },
     "metadata": {},
     "execution_count": 66
    }
   ],
   "metadata": {}
  },
  {
   "cell_type": "code",
   "execution_count": null,
   "source": [],
   "outputs": [],
   "metadata": {}
  }
 ],
 "metadata": {
  "kernelspec": {
   "name": "python3",
   "display_name": "Python 3.8.10 64-bit ('base': conda)"
  },
  "language_info": {
   "codemirror_mode": {
    "name": "ipython",
    "version": 3
   },
   "file_extension": ".py",
   "mimetype": "text/x-python",
   "name": "python",
   "nbconvert_exporter": "python",
   "pygments_lexer": "ipython3",
   "version": "3.8.10"
  },
  "interpreter": {
   "hash": "7071960b1e207750615419d44a8c3c488be03d62f77cb025c293bfd37b50c289"
  }
 },
 "nbformat": 4,
 "nbformat_minor": 5
}